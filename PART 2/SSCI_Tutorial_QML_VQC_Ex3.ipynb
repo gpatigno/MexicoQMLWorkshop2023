{
 "cells": [
  {
   "cell_type": "code",
   "execution_count": 1,
   "id": "e06dbd20",
   "metadata": {},
   "outputs": [],
   "source": [
    "#**************************************************************************************************************#\n",
    "# Implementation of a Variational Quantum Classifier (VQC) to predict the Survival of Passengers on Titanic \n",
    "#**************************************************************************************************************#\n",
    "\n",
    "#**************************************************************************************************************#\n",
    "# This implementation is based on the following references:\n",
    "#\n",
    "# 1. Matheus Cammarosano Hidalgo (2023). A very simple Variational Quantum Classifier (VQC).\n",
    "#    Available on:\n",
    "#    https://medium.com/@matheuscammarosanohidalgo/a-very-simple-variational-quantum-classifier-vqc-64e8ec26589d\n",
    "\n",
    "# 2. Zickert, F. (2021). Chapter 2: Binary Classification. \n",
    "#    In F. Zickert, Hands-On Quantum Machine Learning With Python: Volume 1: Get Started, PyQML, 2021. \n",
    "#    Available on https://www.pyqml.com/\n",
    "#\n",
    "#**************************************************************************************************************#\n",
    "# Code modified by Prof. Gustavo Patino for the Quantum Machine Learning Workshop at the IEEE-SSCI 2023\n",
    "# adolfo.patino@udea.edu.co\n",
    "# Mexico City - Mexico\n",
    "# December 2023\n",
    "#**************************************************************************************************************#\n"
   ]
  },
  {
   "cell_type": "markdown",
   "id": "374a069c",
   "metadata": {},
   "source": [
    "## 1. Imports"
   ]
  },
  {
   "cell_type": "code",
   "execution_count": 2,
   "id": "cc2b9503",
   "metadata": {},
   "outputs": [],
   "source": [
    "import pennylane as qml\n",
    "from pennylane import numpy as np"
   ]
  },
  {
   "cell_type": "markdown",
   "id": "f580060d",
   "metadata": {},
   "source": [
    "## 2. Data Loading and Pre-Processing:"
   ]
  },
  {
   "cell_type": "code",
   "execution_count": 3,
   "id": "707df52d",
   "metadata": {},
   "outputs": [],
   "source": [
    "## Load the data from the csv‐files\n",
    "import pandas as pd\n",
    "\n",
    "# preparaing data\n",
    "ds_train = pd.read_csv('data/train.csv')"
   ]
  },
  {
   "cell_type": "code",
   "execution_count": 4,
   "id": "3dee9d36",
   "metadata": {
    "scrolled": true
   },
   "outputs": [
    {
     "name": "stdout",
     "output_type": "stream",
     "text": [
      "The dataset train has 891 rows and 12 columns\n"
     ]
    }
   ],
   "source": [
    "print('The dataset train has {} rows and {} columns'.format(*ds_train.shape))"
   ]
  },
  {
   "cell_type": "code",
   "execution_count": 5,
   "id": "712779c3",
   "metadata": {
    "scrolled": false
   },
   "outputs": [
    {
     "data": {
      "text/html": [
       "<div>\n",
       "<style scoped>\n",
       "    .dataframe tbody tr th:only-of-type {\n",
       "        vertical-align: middle;\n",
       "    }\n",
       "\n",
       "    .dataframe tbody tr th {\n",
       "        vertical-align: top;\n",
       "    }\n",
       "\n",
       "    .dataframe thead th {\n",
       "        text-align: right;\n",
       "    }\n",
       "</style>\n",
       "<table border=\"1\" class=\"dataframe\">\n",
       "  <thead>\n",
       "    <tr style=\"text-align: right;\">\n",
       "      <th></th>\n",
       "      <th>PassengerId</th>\n",
       "      <th>Survived</th>\n",
       "      <th>Pclass</th>\n",
       "      <th>Name</th>\n",
       "      <th>Sex</th>\n",
       "      <th>Age</th>\n",
       "      <th>SibSp</th>\n",
       "      <th>Parch</th>\n",
       "      <th>Ticket</th>\n",
       "      <th>Fare</th>\n",
       "      <th>Cabin</th>\n",
       "      <th>Embarked</th>\n",
       "    </tr>\n",
       "  </thead>\n",
       "  <tbody>\n",
       "    <tr>\n",
       "      <th>0</th>\n",
       "      <td>1</td>\n",
       "      <td>0</td>\n",
       "      <td>3</td>\n",
       "      <td>Braund, Mr. Owen Harris</td>\n",
       "      <td>male</td>\n",
       "      <td>22.0</td>\n",
       "      <td>1</td>\n",
       "      <td>0</td>\n",
       "      <td>A/5 21171</td>\n",
       "      <td>7.2500</td>\n",
       "      <td>NaN</td>\n",
       "      <td>S</td>\n",
       "    </tr>\n",
       "    <tr>\n",
       "      <th>1</th>\n",
       "      <td>2</td>\n",
       "      <td>1</td>\n",
       "      <td>1</td>\n",
       "      <td>Cumings, Mrs. John Bradley (Florence Briggs Th...</td>\n",
       "      <td>female</td>\n",
       "      <td>38.0</td>\n",
       "      <td>1</td>\n",
       "      <td>0</td>\n",
       "      <td>PC 17599</td>\n",
       "      <td>71.2833</td>\n",
       "      <td>C85</td>\n",
       "      <td>C</td>\n",
       "    </tr>\n",
       "    <tr>\n",
       "      <th>2</th>\n",
       "      <td>3</td>\n",
       "      <td>1</td>\n",
       "      <td>3</td>\n",
       "      <td>Heikkinen, Miss. Laina</td>\n",
       "      <td>female</td>\n",
       "      <td>26.0</td>\n",
       "      <td>0</td>\n",
       "      <td>0</td>\n",
       "      <td>STON/O2. 3101282</td>\n",
       "      <td>7.9250</td>\n",
       "      <td>NaN</td>\n",
       "      <td>S</td>\n",
       "    </tr>\n",
       "    <tr>\n",
       "      <th>3</th>\n",
       "      <td>4</td>\n",
       "      <td>1</td>\n",
       "      <td>1</td>\n",
       "      <td>Futrelle, Mrs. Jacques Heath (Lily May Peel)</td>\n",
       "      <td>female</td>\n",
       "      <td>35.0</td>\n",
       "      <td>1</td>\n",
       "      <td>0</td>\n",
       "      <td>113803</td>\n",
       "      <td>53.1000</td>\n",
       "      <td>C123</td>\n",
       "      <td>S</td>\n",
       "    </tr>\n",
       "    <tr>\n",
       "      <th>4</th>\n",
       "      <td>5</td>\n",
       "      <td>0</td>\n",
       "      <td>3</td>\n",
       "      <td>Allen, Mr. William Henry</td>\n",
       "      <td>male</td>\n",
       "      <td>35.0</td>\n",
       "      <td>0</td>\n",
       "      <td>0</td>\n",
       "      <td>373450</td>\n",
       "      <td>8.0500</td>\n",
       "      <td>NaN</td>\n",
       "      <td>S</td>\n",
       "    </tr>\n",
       "  </tbody>\n",
       "</table>\n",
       "</div>"
      ],
      "text/plain": [
       "   PassengerId  Survived  Pclass  \\\n",
       "0            1         0       3   \n",
       "1            2         1       1   \n",
       "2            3         1       3   \n",
       "3            4         1       1   \n",
       "4            5         0       3   \n",
       "\n",
       "                                                Name     Sex   Age  SibSp  \\\n",
       "0                            Braund, Mr. Owen Harris    male  22.0      1   \n",
       "1  Cumings, Mrs. John Bradley (Florence Briggs Th...  female  38.0      1   \n",
       "2                             Heikkinen, Miss. Laina  female  26.0      0   \n",
       "3       Futrelle, Mrs. Jacques Heath (Lily May Peel)  female  35.0      1   \n",
       "4                           Allen, Mr. William Henry    male  35.0      0   \n",
       "\n",
       "   Parch            Ticket     Fare Cabin Embarked  \n",
       "0      0         A/5 21171   7.2500   NaN        S  \n",
       "1      0          PC 17599  71.2833   C85        C  \n",
       "2      0  STON/O2. 3101282   7.9250   NaN        S  \n",
       "3      0            113803  53.1000  C123        S  \n",
       "4      0            373450   8.0500   NaN        S  "
      ]
     },
     "execution_count": 5,
     "metadata": {},
     "output_type": "execute_result"
    }
   ],
   "source": [
    "ds_train.head()"
   ]
  },
  {
   "cell_type": "code",
   "execution_count": 6,
   "id": "bd5dbd52",
   "metadata": {
    "scrolled": true
   },
   "outputs": [
    {
     "name": "stdout",
     "output_type": "stream",
     "text": [
      "<class 'pandas.core.frame.DataFrame'>\n",
      "RangeIndex: 891 entries, 0 to 890\n",
      "Data columns (total 12 columns):\n",
      " #   Column       Non-Null Count  Dtype  \n",
      "---  ------       --------------  -----  \n",
      " 0   PassengerId  891 non-null    int64  \n",
      " 1   Survived     891 non-null    int64  \n",
      " 2   Pclass       891 non-null    int64  \n",
      " 3   Name         891 non-null    object \n",
      " 4   Sex          891 non-null    object \n",
      " 5   Age          714 non-null    float64\n",
      " 6   SibSp        891 non-null    int64  \n",
      " 7   Parch        891 non-null    int64  \n",
      " 8   Ticket       891 non-null    object \n",
      " 9   Fare         891 non-null    float64\n",
      " 10  Cabin        204 non-null    object \n",
      " 11  Embarked     889 non-null    object \n",
      "dtypes: float64(2), int64(5), object(5)\n",
      "memory usage: 83.7+ KB\n"
     ]
    }
   ],
   "source": [
    "ds_train.info()"
   ]
  },
  {
   "cell_type": "code",
   "execution_count": 7,
   "id": "ec19f1a1",
   "metadata": {
    "scrolled": false
   },
   "outputs": [],
   "source": [
    "ds_train['Pclass'] = ds_train['Pclass'].astype(str)\n",
    "#ds_train.head()"
   ]
  },
  {
   "cell_type": "code",
   "execution_count": 8,
   "id": "4992ab34",
   "metadata": {
    "scrolled": false
   },
   "outputs": [
    {
     "data": {
      "text/html": [
       "<div>\n",
       "<style scoped>\n",
       "    .dataframe tbody tr th:only-of-type {\n",
       "        vertical-align: middle;\n",
       "    }\n",
       "\n",
       "    .dataframe tbody tr th {\n",
       "        vertical-align: top;\n",
       "    }\n",
       "\n",
       "    .dataframe thead th {\n",
       "        text-align: right;\n",
       "    }\n",
       "</style>\n",
       "<table border=\"1\" class=\"dataframe\">\n",
       "  <thead>\n",
       "    <tr style=\"text-align: right;\">\n",
       "      <th></th>\n",
       "      <th>PassengerId</th>\n",
       "      <th>Survived</th>\n",
       "      <th>Pclass</th>\n",
       "      <th>Name</th>\n",
       "      <th>Sex</th>\n",
       "      <th>Age</th>\n",
       "      <th>SibSp</th>\n",
       "      <th>Parch</th>\n",
       "      <th>Ticket</th>\n",
       "      <th>Fare</th>\n",
       "      <th>Cabin</th>\n",
       "      <th>Embarked</th>\n",
       "      <th>Pclass_1</th>\n",
       "      <th>Pclass_2</th>\n",
       "      <th>Pclass_3</th>\n",
       "      <th>Sex_female</th>\n",
       "      <th>Sex_male</th>\n",
       "      <th>Embarked_C</th>\n",
       "      <th>Embarked_Q</th>\n",
       "      <th>Embarked_S</th>\n",
       "    </tr>\n",
       "  </thead>\n",
       "  <tbody>\n",
       "    <tr>\n",
       "      <th>0</th>\n",
       "      <td>1</td>\n",
       "      <td>0</td>\n",
       "      <td>3</td>\n",
       "      <td>Braund, Mr. Owen Harris</td>\n",
       "      <td>male</td>\n",
       "      <td>22.0</td>\n",
       "      <td>1</td>\n",
       "      <td>0</td>\n",
       "      <td>A/5 21171</td>\n",
       "      <td>7.2500</td>\n",
       "      <td>NaN</td>\n",
       "      <td>S</td>\n",
       "      <td>0</td>\n",
       "      <td>0</td>\n",
       "      <td>1</td>\n",
       "      <td>0</td>\n",
       "      <td>1</td>\n",
       "      <td>0</td>\n",
       "      <td>0</td>\n",
       "      <td>1</td>\n",
       "    </tr>\n",
       "    <tr>\n",
       "      <th>1</th>\n",
       "      <td>2</td>\n",
       "      <td>1</td>\n",
       "      <td>1</td>\n",
       "      <td>Cumings, Mrs. John Bradley (Florence Briggs Th...</td>\n",
       "      <td>female</td>\n",
       "      <td>38.0</td>\n",
       "      <td>1</td>\n",
       "      <td>0</td>\n",
       "      <td>PC 17599</td>\n",
       "      <td>71.2833</td>\n",
       "      <td>C85</td>\n",
       "      <td>C</td>\n",
       "      <td>1</td>\n",
       "      <td>0</td>\n",
       "      <td>0</td>\n",
       "      <td>1</td>\n",
       "      <td>0</td>\n",
       "      <td>1</td>\n",
       "      <td>0</td>\n",
       "      <td>0</td>\n",
       "    </tr>\n",
       "    <tr>\n",
       "      <th>2</th>\n",
       "      <td>3</td>\n",
       "      <td>1</td>\n",
       "      <td>3</td>\n",
       "      <td>Heikkinen, Miss. Laina</td>\n",
       "      <td>female</td>\n",
       "      <td>26.0</td>\n",
       "      <td>0</td>\n",
       "      <td>0</td>\n",
       "      <td>STON/O2. 3101282</td>\n",
       "      <td>7.9250</td>\n",
       "      <td>NaN</td>\n",
       "      <td>S</td>\n",
       "      <td>0</td>\n",
       "      <td>0</td>\n",
       "      <td>1</td>\n",
       "      <td>1</td>\n",
       "      <td>0</td>\n",
       "      <td>0</td>\n",
       "      <td>0</td>\n",
       "      <td>1</td>\n",
       "    </tr>\n",
       "    <tr>\n",
       "      <th>3</th>\n",
       "      <td>4</td>\n",
       "      <td>1</td>\n",
       "      <td>1</td>\n",
       "      <td>Futrelle, Mrs. Jacques Heath (Lily May Peel)</td>\n",
       "      <td>female</td>\n",
       "      <td>35.0</td>\n",
       "      <td>1</td>\n",
       "      <td>0</td>\n",
       "      <td>113803</td>\n",
       "      <td>53.1000</td>\n",
       "      <td>C123</td>\n",
       "      <td>S</td>\n",
       "      <td>1</td>\n",
       "      <td>0</td>\n",
       "      <td>0</td>\n",
       "      <td>1</td>\n",
       "      <td>0</td>\n",
       "      <td>0</td>\n",
       "      <td>0</td>\n",
       "      <td>1</td>\n",
       "    </tr>\n",
       "    <tr>\n",
       "      <th>4</th>\n",
       "      <td>5</td>\n",
       "      <td>0</td>\n",
       "      <td>3</td>\n",
       "      <td>Allen, Mr. William Henry</td>\n",
       "      <td>male</td>\n",
       "      <td>35.0</td>\n",
       "      <td>0</td>\n",
       "      <td>0</td>\n",
       "      <td>373450</td>\n",
       "      <td>8.0500</td>\n",
       "      <td>NaN</td>\n",
       "      <td>S</td>\n",
       "      <td>0</td>\n",
       "      <td>0</td>\n",
       "      <td>1</td>\n",
       "      <td>0</td>\n",
       "      <td>1</td>\n",
       "      <td>0</td>\n",
       "      <td>0</td>\n",
       "      <td>1</td>\n",
       "    </tr>\n",
       "  </tbody>\n",
       "</table>\n",
       "</div>"
      ],
      "text/plain": [
       "   PassengerId  Survived Pclass  \\\n",
       "0            1         0      3   \n",
       "1            2         1      1   \n",
       "2            3         1      3   \n",
       "3            4         1      1   \n",
       "4            5         0      3   \n",
       "\n",
       "                                                Name     Sex   Age  SibSp  \\\n",
       "0                            Braund, Mr. Owen Harris    male  22.0      1   \n",
       "1  Cumings, Mrs. John Bradley (Florence Briggs Th...  female  38.0      1   \n",
       "2                             Heikkinen, Miss. Laina  female  26.0      0   \n",
       "3       Futrelle, Mrs. Jacques Heath (Lily May Peel)  female  35.0      1   \n",
       "4                           Allen, Mr. William Henry    male  35.0      0   \n",
       "\n",
       "   Parch            Ticket     Fare Cabin Embarked  Pclass_1  Pclass_2  \\\n",
       "0      0         A/5 21171   7.2500   NaN        S         0         0   \n",
       "1      0          PC 17599  71.2833   C85        C         1         0   \n",
       "2      0  STON/O2. 3101282   7.9250   NaN        S         0         0   \n",
       "3      0            113803  53.1000  C123        S         1         0   \n",
       "4      0            373450   8.0500   NaN        S         0         0   \n",
       "\n",
       "   Pclass_3  Sex_female  Sex_male  Embarked_C  Embarked_Q  Embarked_S  \n",
       "0         1           0         1           0           0           1  \n",
       "1         0           1         0           1           0           0  \n",
       "2         1           1         0           0           0           1  \n",
       "3         0           1         0           0           0           1  \n",
       "4         1           0         1           0           0           1  "
      ]
     },
     "execution_count": 8,
     "metadata": {},
     "output_type": "execute_result"
    }
   ],
   "source": [
    "# One-hot coding for each passenger's features.\n",
    "\n",
    "ds_train = pd.concat([ds_train, pd.get_dummies(ds_train[['Pclass', 'Sex', 'Embarked']])], axis=1) # Convertion to on-hot decoding.\n",
    "ds_train.head()"
   ]
  },
  {
   "cell_type": "code",
   "execution_count": 9,
   "id": "4a9b47a9",
   "metadata": {
    "scrolled": false
   },
   "outputs": [
    {
     "name": "stdout",
     "output_type": "stream",
     "text": [
      "<class 'pandas.core.frame.DataFrame'>\n",
      "RangeIndex: 891 entries, 0 to 890\n",
      "Data columns (total 20 columns):\n",
      " #   Column       Non-Null Count  Dtype  \n",
      "---  ------       --------------  -----  \n",
      " 0   PassengerId  891 non-null    int64  \n",
      " 1   Survived     891 non-null    int64  \n",
      " 2   Pclass       891 non-null    object \n",
      " 3   Name         891 non-null    object \n",
      " 4   Sex          891 non-null    object \n",
      " 5   Age          714 non-null    float64\n",
      " 6   SibSp        891 non-null    int64  \n",
      " 7   Parch        891 non-null    int64  \n",
      " 8   Ticket       891 non-null    object \n",
      " 9   Fare         891 non-null    float64\n",
      " 10  Cabin        204 non-null    object \n",
      " 11  Embarked     889 non-null    object \n",
      " 12  Pclass_1     891 non-null    uint8  \n",
      " 13  Pclass_2     891 non-null    uint8  \n",
      " 14  Pclass_3     891 non-null    uint8  \n",
      " 15  Sex_female   891 non-null    uint8  \n",
      " 16  Sex_male     891 non-null    uint8  \n",
      " 17  Embarked_C   891 non-null    uint8  \n",
      " 18  Embarked_Q   891 non-null    uint8  \n",
      " 19  Embarked_S   891 non-null    uint8  \n",
      "dtypes: float64(2), int64(4), object(6), uint8(8)\n",
      "memory usage: 90.6+ KB\n"
     ]
    }
   ],
   "source": [
    "ds_train.info()"
   ]
  },
  {
   "cell_type": "code",
   "execution_count": 10,
   "id": "ce0bcfa7",
   "metadata": {
    "scrolled": false
   },
   "outputs": [],
   "source": [
    "# I will fill missings with the median\n",
    "ds_train['Age'] = ds_train['Age'].fillna(ds_train['Age'].mean())\n",
    "#ds_train.info()"
   ]
  },
  {
   "cell_type": "code",
   "execution_count": 11,
   "id": "5eeca159",
   "metadata": {
    "scrolled": false
   },
   "outputs": [],
   "source": [
    "ds_train['is_child'] = ds_train['Age'].map(lambda x: 1 if x < 10 else 0)\n",
    "#ds_train.info()"
   ]
  },
  {
   "cell_type": "code",
   "execution_count": 12,
   "id": "b10cc2b4",
   "metadata": {
    "scrolled": false
   },
   "outputs": [],
   "source": [
    "#ds_train.head()"
   ]
  },
  {
   "cell_type": "code",
   "execution_count": 13,
   "id": "07474434",
   "metadata": {},
   "outputs": [],
   "source": [
    "################################################\n",
    "## Separating train and test sets\n",
    "################################################"
   ]
  },
  {
   "cell_type": "code",
   "execution_count": 14,
   "id": "3474a3ca",
   "metadata": {},
   "outputs": [],
   "source": [
    "cols_model = ['is_child', 'Pclass_1', 'Pclass_2', 'Pclass_3', 'Sex_female']"
   ]
  },
  {
   "cell_type": "code",
   "execution_count": 15,
   "id": "2a17f6b2",
   "metadata": {},
   "outputs": [],
   "source": [
    "## Separating input from labels and training from testing sets\n",
    "from sklearn.model_selection import train_test_split\n",
    "\n",
    "X_train, X_test, y_train, y_test = train_test_split(ds_train[cols_model], ds_train['Survived'], test_size=0.2, random_state=42, stratify=ds_train['Survived'])"
   ]
  },
  {
   "cell_type": "code",
   "execution_count": 16,
   "id": "e5406c36",
   "metadata": {
    "scrolled": false
   },
   "outputs": [
    {
     "name": "stdout",
     "output_type": "stream",
     "text": [
      "[[0 0 0 1 0]\n",
      " [0 0 1 0 0]\n",
      " [0 1 0 0 0]\n",
      " ...\n",
      " [0 0 0 1 1]\n",
      " [0 1 0 0 0]\n",
      " [0 1 0 0 0]]\n"
     ]
    }
   ],
   "source": [
    "X_train = np.array(X_train.values, requires_grad=False)\n",
    "print(X_train)"
   ]
  },
  {
   "cell_type": "code",
   "execution_count": 17,
   "id": "2151934f",
   "metadata": {
    "scrolled": false
   },
   "outputs": [
    {
     "name": "stdout",
     "output_type": "stream",
     "text": [
      "X_train has 712 rows and 5 columns\n"
     ]
    }
   ],
   "source": [
    "print('X_train has {} rows and {} columns'.format(*X_train.shape))"
   ]
  },
  {
   "cell_type": "code",
   "execution_count": 18,
   "id": "debff4b6",
   "metadata": {
    "scrolled": false
   },
   "outputs": [],
   "source": [
    "Y_train = np.array(y_train.values * 2 - np.ones(len(y_train)), requires_grad=False)\n",
    "#print(Y_train)"
   ]
  },
  {
   "cell_type": "code",
   "execution_count": 19,
   "id": "7ec6cf4b",
   "metadata": {
    "scrolled": false
   },
   "outputs": [
    {
     "name": "stdout",
     "output_type": "stream",
     "text": [
      "We have 712 training and 179 testing rows\n",
      "There are 5 input columns\n"
     ]
    }
   ],
   "source": [
    "print('We have {} training and {} testing rows'.format(X_train.shape[0], X_test.shape[0]))\n",
    "print('There are {} input columns'.format(X_train.shape[1]))"
   ]
  },
  {
   "cell_type": "code",
   "execution_count": 20,
   "id": "a3be3e5e",
   "metadata": {},
   "outputs": [],
   "source": [
    "#Save the data to the filesystem\n",
    "\n",
    "with open('data/train.npy', 'wb') as f:\n",
    "    np.save(f, X_train)\n",
    "    np.save(f, y_train)\n",
    "\n",
    "with open('data/test.npy', 'wb') as f:\n",
    "    np.save(f, X_test)\n",
    "    np.save(f, y_test)\n",
    "    \n",
    "#CAPTION Save the data to the filesystem"
   ]
  },
  {
   "cell_type": "markdown",
   "id": "a9c7bbd0",
   "metadata": {},
   "source": [
    "## 3. Quantum nodes\n",
    "\n",
    "We create a quantum device with five \"wires\" (or qubits) based on the **qiskit aer** simulator."
   ]
  },
  {
   "cell_type": "code",
   "execution_count": 21,
   "id": "c01050ff",
   "metadata": {},
   "outputs": [],
   "source": [
    "#dev = qml.device(\"default.qubit\", wires=num_qubits)"
   ]
  },
  {
   "cell_type": "code",
   "execution_count": 22,
   "id": "e375ed78",
   "metadata": {},
   "outputs": [],
   "source": [
    "num_qubits = 5\n",
    "num_layers = 2"
   ]
  },
  {
   "cell_type": "code",
   "execution_count": 23,
   "id": "9a0ccbdf",
   "metadata": {},
   "outputs": [],
   "source": [
    "import qiskit\n",
    "dev = qml.device(\"qiskit.aer\", wires=num_qubits)"
   ]
  },
  {
   "cell_type": "markdown",
   "id": "51dd1beb",
   "metadata": {},
   "source": [
    "For **Feature Map** and **Ansatz** circuits, you can check out the Pennylane templates, available at:\n",
    "https://docs.pennylane.ai/en/stable/introduction/templates.html"
   ]
  },
  {
   "cell_type": "code",
   "execution_count": 24,
   "id": "be0a04d2",
   "metadata": {},
   "outputs": [],
   "source": [
    "# quantum circuit functions\n",
    "def FeatureMap(x):\n",
    "    qml.BasisEmbedding(x, wires=range(0, num_qubits))"
   ]
  },
  {
   "cell_type": "code",
   "execution_count": 25,
   "id": "9479bfd2",
   "metadata": {},
   "outputs": [],
   "source": [
    "def Ansatz(W):\n",
    "    qml.StronglyEntanglingLayers(weights=W, wires=range(5))"
   ]
  },
  {
   "cell_type": "code",
   "execution_count": 26,
   "id": "9136129f",
   "metadata": {},
   "outputs": [],
   "source": [
    "@qml.qnode(dev, interface=\"autograd\")\n",
    "\n",
    "def circuit(weights, x):\n",
    "    FeatureMap(x)\n",
    "    qml.Barrier(wires=range(5))\n",
    "    \n",
    "    Ansatz(weights)\n",
    "    qml.Barrier(wires=range(5))    \n",
    "    \n",
    "    return qml.expval(qml.PauliZ(0))"
   ]
  },
  {
   "cell_type": "code",
   "execution_count": 27,
   "id": "e22f9348",
   "metadata": {},
   "outputs": [],
   "source": [
    "def variational_classifier(weights, bias, x):\n",
    "    return circuit(weights, x) + bias"
   ]
  },
  {
   "cell_type": "code",
   "execution_count": 28,
   "id": "da1a4f10",
   "metadata": {},
   "outputs": [],
   "source": [
    "# setting init params\n",
    "np.random.seed(0)\n",
    "weights_init = 0.01 * np.random.randn(num_layers, num_qubits, 3, requires_grad=True)\n",
    "bias_init = np.array(0.0, requires_grad=True)"
   ]
  },
  {
   "cell_type": "code",
   "execution_count": 29,
   "id": "ef58bc17",
   "metadata": {},
   "outputs": [],
   "source": [
    "weights = weights_init\n",
    "x = X_train[0]"
   ]
  },
  {
   "cell_type": "code",
   "execution_count": 30,
   "id": "34f05945",
   "metadata": {},
   "outputs": [
    {
     "data": {
      "image/png": "[encoded data removed]",
      "text/plain": [
       "<Figure size 700x600 with 1 Axes>"
      ]
     },
     "metadata": {},
     "output_type": "display_data"
    }
   ],
   "source": [
    "# Quantum circuit represented by Pennylane\n",
    "qml.drawer.use_style(\"default\")\n",
    "fig, ax = qml.draw_mpl(circuit)(weights, x) # parameters given to the quantum circuit"
   ]
  },
  {
   "cell_type": "code",
   "execution_count": 31,
   "id": "12e1d7ee",
   "metadata": {},
   "outputs": [],
   "source": [
    "# Descomente la siguiente linea si desea ver las imágenes más grandes.\n",
    "#%config InlineBackend.figure_format = 'svg' # Makes the images look nice"
   ]
  },
  {
   "cell_type": "code",
   "execution_count": 32,
   "id": "18ccb524",
   "metadata": {},
   "outputs": [
    {
     "data": {
      "image/png": "[encoded data removed]",
      "text/plain": [
       "<Figure size 2210.55x535.111 with 1 Axes>"
      ]
     },
     "execution_count": 32,
     "metadata": {},
     "output_type": "execute_result"
    }
   ],
   "source": [
    "circuit(weights, x)\n",
    "dev._circuit.draw(output=\"mpl\", style=\"iqp\")"
   ]
  },
  {
   "cell_type": "markdown",
   "id": "fb87f6b5",
   "metadata": {},
   "source": [
    "Post-Processing:\n",
    "-----------------------\n",
    "## 4. Cost"
   ]
  },
  {
   "cell_type": "code",
   "execution_count": 33,
   "id": "d1690f04",
   "metadata": {},
   "outputs": [],
   "source": [
    "def square_loss(labels, predictions):\n",
    "    loss = 0\n",
    "    for l, p in zip(labels, predictions):\n",
    "        loss = loss + (l - p) ** 2\n",
    "\n",
    "    loss = loss / len(labels)\n",
    "    return loss"
   ]
  },
  {
   "cell_type": "code",
   "execution_count": 34,
   "id": "01d01386",
   "metadata": {},
   "outputs": [],
   "source": [
    "def accuracy(labels, predictions):\n",
    "\n",
    "    loss = 0\n",
    "    for l, p in zip(labels, predictions):\n",
    "        if abs(l - p) < 1e-5:\n",
    "            loss = loss + 1\n",
    "    loss = loss / len(labels)\n",
    "\n",
    "    return loss"
   ]
  },
  {
   "cell_type": "code",
   "execution_count": 35,
   "id": "3cdcff4c",
   "metadata": {},
   "outputs": [],
   "source": [
    "def cost(weights, bias, X, Y):\n",
    "    predictions = [variational_classifier(weights, bias, x) for x in X]\n",
    "    return square_loss(Y, predictions)"
   ]
  },
  {
   "cell_type": "markdown",
   "id": "a6c86ed4",
   "metadata": {},
   "source": [
    "Post-Processing:\n",
    "-----------------------\n",
    "## 5. Optimization"
   ]
  },
  {
   "cell_type": "code",
   "execution_count": 36,
   "id": "80383890",
   "metadata": {},
   "outputs": [],
   "source": [
    "from pennylane.optimize import AdamOptimizer\n",
    "import math\n",
    "\n",
    "opt = AdamOptimizer(0.125)"
   ]
  },
  {
   "cell_type": "code",
   "execution_count": 37,
   "id": "f15e57f9",
   "metadata": {},
   "outputs": [],
   "source": [
    "num_it = 30\n",
    "batch_size = math.floor(len(X_train)/num_it)"
   ]
  },
  {
   "cell_type": "code",
   "execution_count": 38,
   "id": "596b0b45",
   "metadata": {},
   "outputs": [
    {
     "name": "stdout",
     "output_type": "stream",
     "text": [
      "Iter:     1 | Cost: 2.3778234 | Accuracy: 0.3497191 \n",
      "Iter:     2 | Cost: 2.1239894 | Accuracy: 0.3497191 \n",
      "Iter:     3 | Cost: 1.8078947 | Accuracy: 0.3497191 \n",
      "Iter:     4 | Cost: 1.5178775 | Accuracy: 0.3497191 \n",
      "Iter:     5 | Cost: 1.2985071 | Accuracy: 0.5238764 \n",
      "Iter:     6 | Cost: 1.1798913 | Accuracy: 0.6123596 \n",
      "Iter:     7 | Cost: 1.1267727 | Accuracy: 0.6165730 \n",
      "Iter:     8 | Cost: 1.0632463 | Accuracy: 0.6165730 \n",
      "Iter:     9 | Cost: 1.0168591 | Accuracy: 0.6165730 \n",
      "Iter:    10 | Cost: 0.9688155 | Accuracy: 0.6165730 \n",
      "Iter:    11 | Cost: 0.9316176 | Accuracy: 0.6165730 \n",
      "Iter:    12 | Cost: 0.8890653 | Accuracy: 0.6165730 \n",
      "Iter:    13 | Cost: 0.8627842 | Accuracy: 0.6165730 \n",
      "Iter:    14 | Cost: 0.8356165 | Accuracy: 0.6362360 \n",
      "Iter:    15 | Cost: 0.8223407 | Accuracy: 0.6685393 \n",
      "Iter:    16 | Cost: 0.8195143 | Accuracy: 0.6769663 \n",
      "Iter:    17 | Cost: 0.8126492 | Accuracy: 0.6615169 \n",
      "Iter:    18 | Cost: 0.7994060 | Accuracy: 0.6432584 \n",
      "Iter:    19 | Cost: 0.7903518 | Accuracy: 0.6432584 \n",
      "Iter:    20 | Cost: 0.7618522 | Accuracy: 0.7162921 \n",
      "Iter:    21 | Cost: 0.7340578 | Accuracy: 0.7808989 \n",
      "Iter:    22 | Cost: 0.7037085 | Accuracy: 0.7823034 \n",
      "Iter:    23 | Cost: 0.6823403 | Accuracy: 0.7893258 \n",
      "Iter:    24 | Cost: 0.6630018 | Accuracy: 0.7893258 \n",
      "Iter:    25 | Cost: 0.6559384 | Accuracy: 0.7893258 \n",
      "Iter:    26 | Cost: 0.6558149 | Accuracy: 0.7893258 \n",
      "Iter:    27 | Cost: 0.6543343 | Accuracy: 0.7893258 \n",
      "Iter:    28 | Cost: 0.6563180 | Accuracy: 0.7893258 \n",
      "Iter:    29 | Cost: 0.6581325 | Accuracy: 0.7893258 \n",
      "Iter:    30 | Cost: 0.6665242 | Accuracy: 0.7893258 \n"
     ]
    }
   ],
   "source": [
    "weights = weights_init\n",
    "bias = bias_init\n",
    "for it in range(num_it):\n",
    "\n",
    "    # Update the weights by one optimizer step\n",
    "    batch_index = np.random.randint(0, len(X_train), (batch_size,))\n",
    "    X_batch = X_train[batch_index]\n",
    "    Y_batch = Y_train[batch_index]\n",
    "    weights, bias, _, _ = opt.step(cost, weights, bias, X_batch, Y_batch)\n",
    "\n",
    "    # Compute accuracy\n",
    "    predictions = [np.sign(variational_classifier(weights, bias, x)) for x in X_train]\n",
    "    acc = accuracy(Y_train, predictions)\n",
    "\n",
    "    print(\"Iter: {:5d} | Cost: {:0.7f} | Accuracy: {:0.7f} \".format(it + 1, cost(weights, bias, X_train, Y_train), acc))"
   ]
  },
  {
   "cell_type": "code",
   "execution_count": 39,
   "id": "20b7505a",
   "metadata": {},
   "outputs": [],
   "source": [
    "X_test = np.array(X_test.values, requires_grad=False)\n",
    "Y_test = np.array(y_test.values * 2 - np.ones(len(y_test)), requires_grad=False)"
   ]
  },
  {
   "cell_type": "code",
   "execution_count": 40,
   "id": "481ceb82",
   "metadata": {},
   "outputs": [],
   "source": [
    "predictions = [np.sign(variational_classifier(weights, bias, x)) for x in X_test]"
   ]
  },
  {
   "cell_type": "code",
   "execution_count": 41,
   "id": "c76e2cd7",
   "metadata": {},
   "outputs": [
    {
     "data": {
      "text/plain": [
       "0.7584345479082322"
      ]
     },
     "execution_count": 41,
     "metadata": {},
     "output_type": "execute_result"
    }
   ],
   "source": [
    "from sklearn.metrics import accuracy_score\n",
    "from sklearn.metrics import f1_score\n",
    "from sklearn.metrics import precision_score\n",
    "from sklearn.metrics import recall_score\n",
    "accuracy_score(Y_test, predictions)\n",
    "precision_score(Y_test, predictions)\n",
    "recall_score(Y_test, predictions)\n",
    "f1_score(Y_test, predictions, average='macro')"
   ]
  },
  {
   "cell_type": "markdown",
   "id": "5a9461f2",
   "metadata": {},
   "source": [
    "## Platform and Tool Versions"
   ]
  },
  {
   "cell_type": "code",
   "execution_count": 42,
   "id": "7c174818",
   "metadata": {},
   "outputs": [
    {
     "data": {
      "text/plain": [
       "{'platform': 'Windows',\n",
       " 'platform-release': '10',\n",
       " 'platform-version': '10.0.19045',\n",
       " 'Python-version': '3.11.4',\n",
       " 'Pennylane-version': '0.33.1',\n",
       " 'Qiskit-version': '0.45.0',\n",
       " 'architecture': 'AMD64',\n",
       " 'hostname': 'DESKTOP-RRB2H12',\n",
       " 'ip-address': '192.168.1.145',\n",
       " 'mac-address': 'f0:1f:af:32:d1:ee',\n",
       " 'processor': 'Intel64 Family 6 Model 58 Stepping 9, GenuineIntel',\n",
       " 'ram': '16 GB'}"
      ]
     },
     "execution_count": 42,
     "metadata": {},
     "output_type": "execute_result"
    }
   ],
   "source": [
    "import qiskit\n",
    "import platform,socket,re,uuid,json,psutil,logging\n",
    "\n",
    "def getSystemInfo():\n",
    "    try:\n",
    "        info={}\n",
    "        info['platform']=platform.system()\n",
    "        info['platform-release']=platform.release()\n",
    "        info['platform-version']=platform.version()\n",
    "        info['Python-version']=platform.python_version()\n",
    "        info['Pennylane-version']=info['Pennylane-version']=qml.version()\n",
    "        info['Qiskit-version']=qiskit.__version__\n",
    "        info['architecture']=platform.machine()\n",
    "        info['hostname']=socket.gethostname()\n",
    "        info['ip-address']=socket.gethostbyname(socket.gethostname())\n",
    "        info['mac-address']=':'.join(re.findall('..', '%012x' % uuid.getnode()))\n",
    "        info['processor']=platform.processor()\n",
    "        info['ram']=str(round(psutil.virtual_memory().total / (1024.0 **3)))+\" GB\"\n",
    "        return json.dumps(info)\n",
    "    except Exception as e:\n",
    "        logging.exception(e)\n",
    "\n",
    "json.loads(getSystemInfo())"
   ]
  },
  {
   "cell_type": "code",
   "execution_count": null,
   "id": "8df849c0",
   "metadata": {},
   "outputs": [],
   "source": []
  }
 ],
 "metadata": {
  "kernelspec": {
   "display_name": "Python 3 (ipykernel)",
   "language": "python",
   "name": "python3"
  },
  "language_info": {
   "codemirror_mode": {
    "name": "ipython",
    "version": 3
   },
   "file_extension": ".py",
   "mimetype": "text/x-python",
   "name": "python",
   "nbconvert_exporter": "python",
   "pygments_lexer": "ipython3",
   "version": "3.11.4"
  }
 },
 "nbformat": 4,
 "nbformat_minor": 5
}
